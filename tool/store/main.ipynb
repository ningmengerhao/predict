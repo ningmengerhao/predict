{
 "cells": [
  {
   "cell_type": "code",
   "execution_count": 1,
   "id": "6a57c464",
   "metadata": {},
   "outputs": [
    {
     "ename": "ModuleNotFoundError",
     "evalue": "No module named 'tool'",
     "output_type": "error",
     "traceback": [
      "\u001b[1;31m---------------------------------------------------------------------------\u001b[0m",
      "\u001b[1;31mModuleNotFoundError\u001b[0m                       Traceback (most recent call last)",
      "\u001b[1;32mc:\\Users\\6433\\Desktop\\紫燕\\predict\\tool\\store\\main.ipynb Cell 1\u001b[0m in \u001b[0;36m<cell line: 2>\u001b[1;34m()\u001b[0m\n\u001b[0;32m      <a href='vscode-notebook-cell:/c%3A/Users/6433/Desktop/%E7%B4%AB%E7%87%95/predict/tool/store/main.ipynb#W0sZmlsZQ%3D%3D?line=0'>1</a>\u001b[0m \u001b[39mimport\u001b[39;00m \u001b[39mos\u001b[39;00m\n\u001b[1;32m----> <a href='vscode-notebook-cell:/c%3A/Users/6433/Desktop/%E7%B4%AB%E7%87%95/predict/tool/store/main.ipynb#W0sZmlsZQ%3D%3D?line=1'>2</a>\u001b[0m \u001b[39mfrom\u001b[39;00m \u001b[39mtool\u001b[39;00m\u001b[39m.\u001b[39;00m\u001b[39mdba\u001b[39;00m \u001b[39mimport\u001b[39;00m \u001b[39m*\u001b[39m\n",
      "\u001b[1;31mModuleNotFoundError\u001b[0m: No module named 'tool'"
     ]
    }
   ],
   "source": [
    "import os\n",
    "from tool.dba import *"
   ]
  },
  {
   "cell_type": "code",
   "execution_count": 12,
   "id": "d3c8f6dc",
   "metadata": {},
   "outputs": [
    {
     "name": "stdout",
     "output_type": "stream",
     "text": [
      "2022 1\n",
      "2022 2\n",
      "2022 3\n",
      "2022 4\n",
      "2022 5\n",
      "2022 6\n"
     ]
    }
   ],
   "source": [
    "# date_range = pd.date_range(start='2021-01-01', end=datetime.datetime.now())\n",
    "# df_date = pd.DataFrame(date_range, columns=[\"DS\"])\n",
    "# df_date[\"YEAR\"] = df_date[\"DS\"].dt.year\n",
    "# df_date[\"MONTH\"] = df_date[\"DS\"].dt.month\n",
    "# try:\n",
    "#     os.makedirs(\"/home/zyuser/predict/data/配送数据\")\n",
    "#     os.makedirs(\"/home/zyuser/predict/data/退货数据\")\n",
    "# except FileExistsError:\n",
    "#     logger.info(f\"Path exists: /home/zyuser/predict/data/退货数据 \")\n",
    "# for (year, month), g_data in df_date.groupby([\"YEAR\", \"MONTH\"], as_index=False):\n",
    "#     print(year, month)\n",
    "#     start_date, end_date = g_data[\"DS\"].min(), g_data[\"DS\"].max()\n",
    "#     sql_th = f\"\"\"\n",
    "#     SELECT ORGCODE STORE_ID, \n",
    "#             PLUCODE PRODUCT_ID, \n",
    "#             DZ_DATE DS,\n",
    "#             PLUTOTAL TH \n",
    "#     FROM TZYPLUVIEW_TH\n",
    "#     WHERE DZ_DATE >= TO_DATE('{start_date}','yyyy-mm-dd hh24:mi:ss') AND DZ_DATE <= TO_DATE('{end_date}','yyyy-mm-dd hh24:mi:ss') and PLUTYPE = 'GQTH'\n",
    "#     \"\"\"\n",
    "#     df_th = oracle97.read(sql_th)\n",
    "#     df_th.to_feather(os.path.join(\"/home/zyuser/predict/data/退货数据\", \"%04d%02d.feather\" % (year, month)))\n",
    "#     sql_ps = f\"\"\"\n",
    "#     SELECT ORGCODE STORE_ID, \n",
    "#             PLUCODE PRODUCT_ID, \n",
    "#             RPTDATE DS,\n",
    "#             PLUTOTAL PS \n",
    "#     FROM TZYPLUPRO_PS\n",
    "#     WHERE RPTDATE >= TO_DATE('{start_date}','yyyy-mm-dd hh24:mi:ss') AND RPTDATE <= TO_DATE('{end_date}','yyyy-mm-dd hh24:mi:ss')\n",
    "#     \"\"\"\n",
    "#     df_ps = oracle97.read(sql_ps)\n",
    "#     df_ps.to_feather(os.path.join(\"/home/zyuser/predict/data/配送数据\", \"%04d%02d.feather\" % (year, month)))\n",
    "\n",
    "date_range = pd.date_range(start='2022-01-01', end='2022-06-30')\n",
    "df_date = pd.DataFrame(date_range, columns=[\"DS\"])\n",
    "df_date[\"YEAR\"] = df_date[\"DS\"].dt.year\n",
    "df_date[\"MONTH\"] = df_date[\"DS\"].dt.month\n",
    "try:\n",
    "    os.makedirs(\"/home/zyuser/predict/data/配送数据\")\n",
    "    os.makedirs(\"/home/zyuser/predict/data/退货数据\")\n",
    "except FileExistsError:\n",
    "    logger.info(f\"Path exists: /home/zyuser/predict/data/退货数据 \")\n",
    "for (year, month), g_data in df_date.groupby([\"YEAR\", \"MONTH\"], as_index=False):\n",
    "    print(year, month)\n",
    "    start_date, end_date = g_data[\"DS\"].min(), g_data[\"DS\"].max()\n",
    "    sql_th = f\"\"\"\n",
    "    SELECT DD.DZ_DATE DS,\n",
    "       DD.PRODUCT_STORE_ID STORE_ID,\n",
    "       DI.PRODUCT_ID,\n",
    "       NVL(DI.AMOUNT3, 0) TH\n",
    "    FROM ZDEV_TH_DOC DD\n",
    "    INNER JOIN ZDEV_TH_ITEM DI ON DD.DOC_ID = DI.DOC_ID\n",
    "    WHERE DZ_DATE >= TO_DATE('{start_date}','yyyy-mm-dd hh24:mi:ss') AND DZ_DATE <= TO_DATE('{end_date}','yyyy-mm-dd hh24:mi:ss') and DD.FAULT_TYPE_ID = '10001'\n",
    "    \"\"\"\n",
    "    df_th = oracle97.read(sql_th)\n",
    "    df_th.to_feather(os.path.join(\"/home/zyuser/predict/data/退货数据\", \"%04d%02d.feather\" % (year, month)))\n",
    "    sql_ps = f\"\"\"\n",
    "    SELECT\n",
    "        DD.POSTING_DATE AS DS,\n",
    "        DD.PRODUCT_STORE_ID_TO AS STORE_ID,\n",
    "        DI.PRODUCT_ID AS PRODUCT_ID,\n",
    "        NVL(DI.AMOUNT,0) PS\n",
    "        FROM ZDEV_PS_DOC DD\n",
    "        INNER JOIN ZDEV_PS_ITEM DI ON DD.DOC_ID=DI.DOC_ID\n",
    "        WHERE DD.MOVEMENT_TYPE_ID IN ('PS','DR','DZ')\n",
    "    AND POSTING_DATE >= TO_DATE('{start_date}','yyyy-mm-dd hh24:mi:ss') AND POSTING_DATE <= TO_DATE('{end_date}','yyyy-mm-dd hh24:mi:ss')\n",
    "    \"\"\"\n",
    "    df_ps = oracle97.read(sql_ps)\n",
    "    df_ps.to_feather(os.path.join(\"/home/zyuser/predict/data/配送数据\", \"%04d%02d.feather\" % (year, month)))"
   ]
  },
  {
   "cell_type": "code",
   "execution_count": 13,
   "id": "068e29b5",
   "metadata": {},
   "outputs": [],
   "source": [
    "path = \"/home/zyuser/predict/data/配送数据\"\n",
    "df_ps = pd.concat([pd.read_feather(os.path.join(path, file)) for file in os.listdir(path)])\n",
    "df_ps = df_ps[df_ps[\"PS\"] > 0]\n",
    "path = \"/home/zyuser/predict/data/退货数据\"\n",
    "df_th = pd.concat([pd.read_feather(os.path.join(path, file)) for file in os.listdir(path)])\n",
    "df_th = df_th[df_th[\"TH\"] > 0]"
   ]
  },
  {
   "cell_type": "code",
   "execution_count": 108,
   "id": "5f2006af",
   "metadata": {},
   "outputs": [],
   "source": [
    "plu = oracle97.read(\"SELECT PRODUCT_ID FROM PLUVIEW WHERE PRODUCT_CATEGORY_NAME='散装食品' and UOM='千克'\")\n",
    "store = oracle97.read(\"SELECT PRODUCT_STORE_ID FROM ORGVIEW WHERE STORE_BRAND IN ('紫燕百味鸡', '钟记油烫鸭')\")"
   ]
  },
  {
   "cell_type": "code",
   "execution_count": null,
   "id": "81efb37a",
   "metadata": {},
   "outputs": [],
   "source": [
    "df = pd.concat([df_ps, df_th])\n",
    "df = df[df.STORE_ID.isin(store.PRODUCT_STORE_ID)]\n",
    "df = df[df.PRODUCT_ID.isin(plu.PRODUCT_ID)]\n",
    "df[\"YEAR\"] = df[\"DS\"].dt.year\n",
    "df[\"MONTH\"] = df[\"DS\"].dt.month\n",
    "# df = df[df[\"MONTH\"] <= 6]\n",
    "df = pd.pivot_table(df, columns=\"YEAR\", values=[\"PS\", \"TH\"], aggfunc=\"sum\", index=[\"STORE_ID\", \"PRODUCT_ID\"], fill_value=0).reset_index()\n",
    "df"
   ]
  },
  {
   "cell_type": "code",
   "execution_count": null,
   "id": "9654fe57",
   "metadata": {},
   "outputs": [],
   "source": [
    "df.columns = [var[0] + str(var[1]) for var in df.columns]\n",
    "df.columns"
   ]
  },
  {
   "cell_type": "code",
   "execution_count": null,
   "id": "edfdc6fd",
   "metadata": {},
   "outputs": [],
   "source": [
    "df[\"RATE2021\"] = df[\"TH2022\"].cumsum() / df[\"PS2022\"].cumsum()\n",
    "df = df.sort_values(by=\"TH2022\", ascending=True).reset_index(drop=True)\n",
    "df[\"RATE2021\"] = df[\"TH2021\"].cumsum() / df[\"PS2021\"].cumsum()\n",
    "df[\"RATE2022\"] = df[\"TH2022\"].cumsum() / df[\"PS2022\"].cumsum()"
   ]
  },
  {
   "cell_type": "code",
   "execution_count": null,
   "id": "4e46ed11",
   "metadata": {},
   "outputs": [],
   "source": [
    "df"
   ]
  },
  {
   "cell_type": "code",
   "execution_count": null,
   "id": "4266329e",
   "metadata": {},
   "outputs": [],
   "source": [
    "df.to_csv(\"退货数据.csv\")"
   ]
  }
 ],
 "metadata": {
  "kernelspec": {
   "display_name": "Python 3.9.12 ('base')",
   "language": "python",
   "name": "python3"
  },
  "language_info": {
   "codemirror_mode": {
    "name": "ipython",
    "version": 3
   },
   "file_extension": ".py",
   "mimetype": "text/x-python",
   "name": "python",
   "nbconvert_exporter": "python",
   "pygments_lexer": "ipython3",
   "version": "3.9.12 (main, Apr  4 2022, 05:22:27) [MSC v.1916 64 bit (AMD64)]"
  },
  "vscode": {
   "interpreter": {
    "hash": "709766b6821282c6c42278fe44d1e0c5d34191c87288525f77c60ce74d484518"
   }
  }
 },
 "nbformat": 4,
 "nbformat_minor": 5
}
